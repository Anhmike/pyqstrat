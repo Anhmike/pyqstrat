{
 "cells": [
  {
   "cell_type": "markdown",
   "metadata": {
    "ExecuteTime": {
     "end_time": "2019-05-04T14:05:49.413270Z",
     "start_time": "2019-05-04T14:05:48.782154Z"
    },
    "run_control": {
     "frozen": false,
     "read_only": false
    }
   },
   "source": [
    "## Trading a Delta Hedged Straddle\n",
    "\n",
    "**_Please go through the \"building strategies\" notebook before looking at this notebook._**\n",
    "\n",
    "Let's trade some delta hedged Pepsi (PEP) straddles.\n",
    "\n",
    "1.  We will buy 10 contracts of a Put and a Call at the strike that is closest to the underlying stock price \n",
    "and hedge any remaining delta with underlying stock.\n",
    "2.  We will buy and sell the expiry that is closest to today but at least 5 trading days out.\n",
    "3.  We will exit the trade and its hedge one day after we enter it.\n",
    "4.  We will exit the trade after 3:30 pm NY time \n",
    "5.  We assume no slippage (entry and exit at mid price) and commission of 1/2 a cent for stock trades and 1 dollar }for option trades\n",
    "\n",
    "This is an illustrative example.  In real life you would add code for error handling, make more reasonable assumptions on slippage, margin and also deal with missing data."
   ]
  },
  {
   "cell_type": "markdown",
   "metadata": {},
   "source": [
    "First lets generate some option prices based on the underlying stock price.  We will generate some random volatility numbers, and use Black Scholes to generate prices.  We will add all this data to a strategy context that we can later use from our strategy and avoid excessive global variables."
   ]
  },
  {
   "cell_type": "code",
   "execution_count": 1,
   "metadata": {
    "ExecuteTime": {
     "end_time": "2020-04-08T22:29:34.056014Z",
     "start_time": "2020-04-08T22:29:32.968270Z"
    },
    "run_control": {
     "frozen": false,
     "read_only": false
    }
   },
   "outputs": [],
   "source": [
    "import math\n",
    "import datetime\n",
    "import numpy as np\n",
    "import pandas as pd\n",
    "import matplotlib.pyplot as plt\n",
    "import scipy.stats\n",
    "import os\n",
    "from types import SimpleNamespace\n",
    "\n",
    "import pyqstrat as pq\n",
    "\n",
    "pq.set_defaults() # Set some display defaults to make dataframes and plots easier to look at\n",
    "_logger = pq.get_child_logger('pyqstrat')\n",
    "\n",
    "try:\n",
    "    file_path = os.path.dirname(os.path.realpath(__file__)) + '/../notebooks/support/pepsi_15_min_prices.csv.gz' # If we are running from unit tests\n",
    "except:\n",
    "    file_path = '../notebooks/support/pepsi_15_min_prices.csv.gz'\n",
    "    \n",
    "prices = pd.read_csv(file_path)\n",
    "prices.date = pd.to_datetime(prices.date)\n",
    "\n",
    "strategy_context = SimpleNamespace()\n",
    "\n",
    "timestamps = prices.date.values.astype('M8[s]')\n",
    "close_prices = prices.c.values\n",
    "\n",
    "strategy_context.timestamps = timestamps\n",
    "strategy_context.close_prices = close_prices\n",
    "\n",
    "calendar = pq.Calendar.get_calendar(pq.Calendar.NYSE)\n",
    "strategy_context.calendar = calendar\n",
    "stock_symbol = 'PEP'\n",
    "strategy_context.stock_symbol = stock_symbol"
   ]
  },
  {
   "cell_type": "code",
   "execution_count": 2,
   "metadata": {
    "ExecuteTime": {
     "end_time": "2020-04-08T22:29:34.902997Z",
     "start_time": "2020-04-08T22:29:34.058321Z"
    },
    "run_control": {
     "frozen": false,
     "read_only": false
    }
   },
   "outputs": [],
   "source": [
    "# Generate the same random values each time we run this notebook\n",
    "np.random.seed(0)\n",
    "\n",
    "# Generate random implied vol numbers from 10% to 15%\n",
    "implied_vol = np.random.rand(len(prices)) * 0.05 + 0.10\n",
    "\n",
    "# Generate strikes and expiries\n",
    "strikes = np.arange(prices.c.min() - 20, prices.c.max() + 20, 5)\n",
    "# Round strikes down to the nearest $5\n",
    "strikes = np.round(strikes / 5) * 5\n",
    "strategy_context.strikes = strikes\n",
    "\n",
    "# Generate expiries 1 month (21 trading days) and 2 months (42 trading days) away from first date we have prices for\n",
    "expiries = np.array([calendar.add_trading_days(timestamps.min(), 21), calendar.add_trading_days(timestamps.min(), 42)])\n",
    "strategy_context.expiries = expiries\n",
    "\n",
    "# Now lets generate options\n",
    "option_prices = {}\n",
    "stock_prices = {}\n",
    "option_deltas = {}\n",
    "\n",
    "for i, timestamp in enumerate(timestamps):\n",
    "    close_price = close_prices[i]\n",
    "    for expiry in expiries:\n",
    "        expiry_month = expiry.astype(object).month\n",
    "        t = (expiry - timestamp) / np.timedelta64(1, 'D') / 365.0  # Time to expiry as fraction of a year\n",
    "        for strike in strikes:\n",
    "            for put_call in ['P', 'C']:\n",
    "                option_symbol = f'PEP_{expiry_month}:{put_call}:{strike:.0f}'\n",
    "                option_price = pq.black_scholes_price((put_call == 'C'), S = close_price, K = strike, t = t, r = 0.02, sigma = implied_vol[i], q = 0)\n",
    "                option_prices[(option_symbol, timestamp)] = option_price\n",
    "                delta = pq.delta((put_call == 'C'), S = close_price, K = strike, t = t, r = 0.02, sigma = implied_vol[i], q = 0)\n",
    "                option_deltas[(option_symbol, timestamp)] = delta\n",
    "\n",
    "# Also store underlying prices in a dict for easy retrieval later\n",
    "for i, timestamp in enumerate(timestamps):\n",
    "    stock_prices[timestamp] = close_prices[i]\n",
    "    \n",
    "strategy_context.stock_prices = stock_prices\n",
    "strategy_context.option_prices = option_prices\n",
    "strategy_context.option_deltas = option_deltas\n"
   ]
  },
  {
   "cell_type": "markdown",
   "metadata": {},
   "source": [
    "Lets create functions that we can use to get the price of any option or the underlying given a symbol and timestamp"
   ]
  },
  {
   "cell_type": "code",
   "execution_count": 3,
   "metadata": {
    "ExecuteTime": {
     "end_time": "2020-04-08T22:29:34.912523Z",
     "start_time": "2020-04-08T22:29:34.905677Z"
    },
    "run_control": {
     "frozen": false,
     "read_only": false
    }
   },
   "outputs": [],
   "source": [
    "def get_option_price(option_symbol, timestamp, context):\n",
    "    option_prices = context.option_prices\n",
    "    return option_prices.get((option_symbol, timestamp))\n",
    "\n",
    "def get_stock_price(symbol, timestamp, context):\n",
    "    stock_prices = context.stock_prices\n",
    "    return stock_prices.get(timestamp)\n",
    "\n",
    "def get_price(contract, timestamps, i, context):\n",
    "    timestamp = timestamps[i]\n",
    "    price = np.nan\n",
    "    contract_type = contract.properties.contract_type\n",
    "    assert contract_type in ['Option', 'Stock'], f'Unknown contract type: {contract_type}'\n",
    "    if contract_type == \"Option\":\n",
    "        price = get_option_price(contract.symbol, timestamp, context)\n",
    "        assert price is not None and math.isfinite(price), f'Bad option price: {price} {contract} {timestamps[i]}'\n",
    "    else:\n",
    "        price = get_stock_price(contract.symbol, timestamp, context)\n",
    "        assert price is not None and math.isfinite(price), f'Bad stock price: {price} {contract} {timestamps[i]}'\n",
    "    return price\n"
   ]
  },
  {
   "cell_type": "markdown",
   "metadata": {
    "ExecuteTime": {
     "end_time": "2019-05-04T14:25:09.144278Z",
     "start_time": "2019-05-04T14:25:09.140316Z"
    }
   },
   "source": [
    "Let's say we want to buy the straddles when implied vol is below 14% and sell after one trading day.  We will trade the closest expiry that is at least one week out from today.  We will get out at the end of the trading day, after 3:30 PM NY time.  Lets create indicators, signals and entry, exit rules"
   ]
  },
  {
   "cell_type": "code",
   "execution_count": 4,
   "metadata": {
    "ExecuteTime": {
     "end_time": "2020-04-08T22:29:34.947766Z",
     "start_time": "2020-04-08T22:29:34.915846Z"
    },
    "run_control": {
     "frozen": false,
     "read_only": false
    }
   },
   "outputs": [],
   "source": [
    "class OrderCodes:\n",
    "    '''\n",
    "    Convenience class to group order reason code constants\n",
    "    '''\n",
    "    ENTER_OPTION = 'ENTER_OPTION'\n",
    "    EXIT_OPTION  = 'EXIT_OPTION'\n",
    "    ENTER_HEDGE  = 'ENTER_HEDGE'\n",
    "    EXIT_HEDGE   = 'EXIT_HEDGE'\n",
    "\n",
    "def straddle_entry_signal(contract_group, timestamps, indicators, parent_signals, context):\n",
    "    return indicators.implied_vol < 0.11\n",
    "\n",
    "def straddle_exit_signal(contract_group, timestamps, indicators, parent_signals, context):\n",
    "    date = timestamps.astype('M8[D]')\n",
    "    time = (timestamps - date) / np.timedelta64(1, 'm') # Minutes since midnight\n",
    "    signal = time > 15 * 60 + 30 # 3:30 pm in minutes\n",
    "    return signal\n",
    "    \n",
    "def straddle_entry_rule(contract_group, i, timestamps, indicators, signal, account, context):\n",
    "    expiries, strikes, option_deltas = context.expiries, context.strikes, context.option_deltas\n",
    "    hedge_contract_group, calendar = context.hedge_contract_group, context.calendar\n",
    "    \n",
    "    timestamp = timestamps[i]\n",
    "    \n",
    "    straddle_exit_time = context.straddle_exit_time\n",
    "    \n",
    "    if straddle_exit_time is not None and (timestamp - straddle_exit_time) / np.timedelta64(1, 'D') < 1:\n",
    "        # Don't enter a straddle on the same day we exited\n",
    "        return []\n",
    "    \n",
    "    # Find the expiry we want to trade\n",
    "    max_expiry = calendar.add_trading_days(timestamp, 5) # At least 5 trading days out\n",
    "    expiry = expiries[np.searchsorted(expiries, max_expiry)] # Closest expiry at least trading days 5 days out\n",
    "    \n",
    "    # Find the strike we want to trade\n",
    "    stock_price = indicators.close_price[i]\n",
    "    strike = strikes[pq.np_find_closest(strikes, stock_price)]\n",
    "    \n",
    "    expiry_month = expiry.astype(datetime.datetime).month\n",
    "\n",
    "    call_symbol = f'PEP_{expiry_month}:C:{strike:.0f}'\n",
    "    put_symbol = f'PEP_{expiry_month}:P:{strike:.0f}'\n",
    "    \n",
    "    call_contract = contract_group.get_contract(call_symbol)\n",
    "    put_contract = contract_group.get_contract(put_symbol)\n",
    "    \n",
    "    opt_properties = SimpleNamespace(contract_type = 'Option', strike = strike)\n",
    "\n",
    "    if call_contract is None: call_contract = pq.Contract.create(call_symbol, contract_group, expiry, 100, opt_properties)\n",
    "    if put_contract is None:  put_contract =  pq.Contract.create(put_symbol,  contract_group, expiry, 100, opt_properties)\n",
    "        \n",
    "    # Record implied vol at order time so we can look at whether implied vol fell by the time we exited\n",
    "    implied_vol =  indicators.implied_vol[i]\n",
    "        \n",
    "    order_properties = SimpleNamespace(implied_vol = implied_vol)\n",
    "   \n",
    "    call_order = pq.MarketOrder(call_contract, timestamp, 10, reason_code = OrderCodes.ENTER_OPTION, properties = order_properties)\n",
    "    put_order =  pq.MarketOrder(put_contract,  timestamp, 10, reason_code = OrderCodes.ENTER_OPTION, properties = order_properties)\n",
    "    \n",
    "    call_delta = option_deltas[(call_symbol, timestamp)]\n",
    "    put_delta = option_deltas[(put_symbol, timestamp)]\n",
    "    \n",
    "    delta = call_delta + put_delta\n",
    "    \n",
    "    hedge_contract = hedge_contract_group.get_contract(stock_symbol)\n",
    "    hedge_properties = SimpleNamespace(contract_type = 'Stock')\n",
    "    if hedge_contract is None: hedge_contract = pq.Contract.create(stock_symbol, contract_group = hedge_contract_group, properties = hedge_properties)\n",
    "    hedge_qty = round(-100 * delta)\n",
    "    if hedge_qty != 0:\n",
    "        hedge_order = pq.MarketOrder(hedge_contract, timestamp, hedge_qty, reason_code = OrderCodes.ENTER_HEDGE, properties = order_properties)\n",
    "    else:\n",
    "        hedge_order = None\n",
    "        \n",
    "    orders = [call_order, put_order]\n",
    "    if hedge_order: orders.append(hedge_order)\n",
    "    \n",
    "    msg = f'\\nEntering straddle: {timestamp}: '\n",
    "    for order in orders:\n",
    "        strike_str = f' strike: {order.contract.properties.strike:.0f}' if order.contract.properties.contract_type == 'Option' else ''\n",
    "        msg += f'\\n   {order.contract.symbol} qty: {order.qty:.0f}{strike_str} vol: {implied_vol:.4f} reason: {order.reason_code}'\n",
    "    _logger.info(msg)\n",
    "    \n",
    "    return orders\n",
    "\n",
    "def straddle_exit_rule(contract_group, i, timestamps, indicators, signal, account, context):\n",
    "    timestamp = timestamps[i]\n",
    "    orders = []\n",
    "    \n",
    "    straddle_entry_time = context.straddle_entry_time\n",
    "    \n",
    "    if straddle_entry_time is not None and (timestamp - straddle_entry_time) / np.timedelta64(1, 'D') < 1:\n",
    "        # We have not held the straddle for one day yet, so don't exit\n",
    "        return []\n",
    "    \n",
    "    positions = account.positions(contract_group, timestamp)\n",
    "    \n",
    "    if len(positions) > 3:\n",
    "        assert False, f'{i} {timestamp} {positions} {contract_group}'\n",
    "    \n",
    "    # Record implied vol at order time so we can look at whether implied vol fell by the time we exited\n",
    "    implied_vol =  indicators.implied_vol[i]\n",
    "        \n",
    "    order_properties = SimpleNamespace(implied_vol = implied_vol)\n",
    "    \n",
    "    for contract, qty in positions:\n",
    "        if contract.properties.contract_type == 'Option':\n",
    "            reason_code = OrderCodes.EXIT_OPTION\n",
    "        else:\n",
    "            reason_code = OrderCodes.EXIT_HEDGE\n",
    "            \n",
    "        order = pq.MarketOrder(contract, timestamp, -qty, reason_code, properties = order_properties)\n",
    "        orders.append(order)\n",
    "        \n",
    "    if len(orders):\n",
    "        hedge_positions = account.positions(hedge_contract_group, timestamp)\n",
    "        assert len(hedge_positions) in [0, 1], f'Expected 0 or 1 hedges, got: {hedge_positions}'\n",
    "        if len(hedge_positions):\n",
    "            hedge_contract, hedge_qty = hedge_positions[0]\n",
    "            order = pq.MarketOrder(hedge_contract, timestamp, -hedge_qty, reason_code = OrderCodes.EXIT_HEDGE)\n",
    "            orders.append(order)\n",
    "        \n",
    "    msg = f'\\nExiting straddle: {timestamp}: '\n",
    "    for order in orders:\n",
    "        strike_str = f' strike: {order.contract.properties.strike:.0f}' if order.contract.properties.contract_type == 'Option' else ''\n",
    "        msg += f'\\n   {order.contract.symbol} qty: {order.qty:.0f}{strike_str} vol: {implied_vol:.4f} reason: {order.reason_code}'\n",
    "    _logger.info(msg)\n",
    "        \n",
    "    return orders\n",
    "\n",
    "def market_simulator(orders, i, timestamps, indicators, signals, context):\n",
    "    timestamp = timestamps[i]\n",
    "    if not len(orders): return []\n",
    "\n",
    "    trades = []\n",
    "    \n",
    "    # Assume no slippage, i.e. we get filled at mid\n",
    "    # Assume 1/2 cent commission for stock, $1 commission per contract for option\n",
    "    for order in orders:\n",
    "        contract = order.contract\n",
    "        contract_type = contract.properties.contract_type\n",
    "        if contract_type == 'Option':\n",
    "            trade_price = get_option_price(contract.symbol, timestamp, context)\n",
    "            commission = abs(order.qty)\n",
    "        else:\n",
    "            trade_price = get_stock_price(contract.symbol, timestamp, context)\n",
    "            commission = 0.005 * abs(order.qty)\n",
    "        trade = pq.Trade(order.contract, order, timestamp, order.qty, trade_price, commission = commission)\n",
    "        trades.append(trade)\n",
    "        \n",
    "    if trades[0].qty > 0: # We are entering the straddle so record entry time\n",
    "        context.straddle_entry_time = timestamp\n",
    "        context.straddle_exit_time = None\n",
    "    else:\n",
    "        context.straddle_entry_time = None\n",
    "        context.straddle_exit_time = timestamp\n",
    "        \n",
    "    msg = f'\\nTrades: {timestamp}: '\n",
    "    for trade in trades:\n",
    "        msg += f'\\n   {trade.order.contract.symbol} qty: {trade.qty} price: {trade.price:.2f} commission: {trade.commission:.2f}'\n",
    "    _logger.info(msg)\n",
    "    \n",
    "    for trade in trades:\n",
    "        trade.order.status = pq.OrderStatus.FILLED\n",
    "\n",
    "    return trades"
   ]
  },
  {
   "cell_type": "code",
   "execution_count": 5,
   "metadata": {
    "ExecuteTime": {
     "end_time": "2020-04-08T22:29:35.248257Z",
     "start_time": "2020-04-08T22:29:34.949714Z"
    },
    "run_control": {
     "frozen": false,
     "read_only": false
    }
   },
   "outputs": [
    {
     "name": "stdout",
     "output_type": "stream",
     "text": [
      "[2020-04-08 17:29:34.957 straddle_entry_rule] \n",
      "Entering straddle: 2019-01-14T13:15:00: \n",
      "   PEP_2:C:105 qty: 10 strike: 105 vol: 0.1036 reason: ENTER_OPTION\n",
      "   PEP_2:P:105 qty: 10 strike: 105 vol: 0.1036 reason: ENTER_OPTION\n",
      "   PEP qty: -60 vol: 0.1036 reason: ENTER_HEDGE\n"
     ]
    },
    {
     "ename": "AttributeError",
     "evalue": "Exception: 'types.SimpleNamespace' object has no attribute 'stock_prices' at index: 15 function: <function market_simulator at 0x11bdc9d40>",
     "output_type": "error",
     "traceback": [
      "\u001b[0;31m---------------------------------------------------------------------------\u001b[0m",
      "\u001b[0;31mAttributeError\u001b[0m                            Traceback (most recent call last)",
      "\u001b[0;32m~/Developer/pyqstrat/pyqstrat/strategy.py\u001b[0m in \u001b[0;36m_sim_market\u001b[0;34m(self, i)\u001b[0m\n\u001b[1;32m    465\u001b[0m             \u001b[0;32mtry\u001b[0m\u001b[0;34m:\u001b[0m\u001b[0;34m\u001b[0m\u001b[0;34m\u001b[0m\u001b[0m\n\u001b[0;32m--> 466\u001b[0;31m                 \u001b[0mtrades\u001b[0m \u001b[0;34m=\u001b[0m \u001b[0mmarket_sim_function\u001b[0m\u001b[0;34m(\u001b[0m\u001b[0mopen_orders\u001b[0m\u001b[0;34m,\u001b[0m \u001b[0mi\u001b[0m\u001b[0;34m,\u001b[0m \u001b[0mself\u001b[0m\u001b[0;34m.\u001b[0m\u001b[0mtimestamps\u001b[0m\u001b[0;34m,\u001b[0m \u001b[0mself\u001b[0m\u001b[0;34m.\u001b[0m\u001b[0mindicator_values\u001b[0m\u001b[0;34m,\u001b[0m \u001b[0mself\u001b[0m\u001b[0;34m.\u001b[0m\u001b[0msignal_values\u001b[0m\u001b[0;34m,\u001b[0m \u001b[0mself\u001b[0m\u001b[0;34m.\u001b[0m\u001b[0mstrategy_context\u001b[0m\u001b[0;34m)\u001b[0m\u001b[0;34m\u001b[0m\u001b[0;34m\u001b[0m\u001b[0m\n\u001b[0m\u001b[1;32m    467\u001b[0m                 \u001b[0;32mif\u001b[0m \u001b[0mlen\u001b[0m\u001b[0;34m(\u001b[0m\u001b[0mtrades\u001b[0m\u001b[0;34m)\u001b[0m\u001b[0;34m:\u001b[0m \u001b[0mself\u001b[0m\u001b[0;34m.\u001b[0m\u001b[0maccount\u001b[0m\u001b[0;34m.\u001b[0m\u001b[0madd_trades\u001b[0m\u001b[0;34m(\u001b[0m\u001b[0mtrades\u001b[0m\u001b[0;34m)\u001b[0m\u001b[0;34m\u001b[0m\u001b[0;34m\u001b[0m\u001b[0m\n",
      "\u001b[0;32m<ipython-input-4-169eeb903864>\u001b[0m in \u001b[0;36mmarket_simulator\u001b[0;34m(orders, i, timestamps, indicators, signals, context)\u001b[0m\n\u001b[1;32m    144\u001b[0m         \u001b[0;32melse\u001b[0m\u001b[0;34m:\u001b[0m\u001b[0;34m\u001b[0m\u001b[0;34m\u001b[0m\u001b[0m\n\u001b[0;32m--> 145\u001b[0;31m             \u001b[0mtrade_price\u001b[0m \u001b[0;34m=\u001b[0m \u001b[0mget_stock_price\u001b[0m\u001b[0;34m(\u001b[0m\u001b[0mcontract\u001b[0m\u001b[0;34m.\u001b[0m\u001b[0msymbol\u001b[0m\u001b[0;34m,\u001b[0m \u001b[0mtimestamp\u001b[0m\u001b[0;34m,\u001b[0m \u001b[0mcontext\u001b[0m\u001b[0;34m)\u001b[0m\u001b[0;34m\u001b[0m\u001b[0;34m\u001b[0m\u001b[0m\n\u001b[0m\u001b[1;32m    146\u001b[0m             \u001b[0mcommission\u001b[0m \u001b[0;34m=\u001b[0m \u001b[0;36m0.005\u001b[0m \u001b[0;34m*\u001b[0m \u001b[0mabs\u001b[0m\u001b[0;34m(\u001b[0m\u001b[0morder\u001b[0m\u001b[0;34m.\u001b[0m\u001b[0mqty\u001b[0m\u001b[0;34m)\u001b[0m\u001b[0;34m\u001b[0m\u001b[0;34m\u001b[0m\u001b[0m\n",
      "\u001b[0;32m<ipython-input-3-79708d8e3a88>\u001b[0m in \u001b[0;36mget_stock_price\u001b[0;34m(symbol, timestamp, context)\u001b[0m\n\u001b[1;32m      5\u001b[0m \u001b[0;32mdef\u001b[0m \u001b[0mget_stock_price\u001b[0m\u001b[0;34m(\u001b[0m\u001b[0msymbol\u001b[0m\u001b[0;34m,\u001b[0m \u001b[0mtimestamp\u001b[0m\u001b[0;34m,\u001b[0m \u001b[0mcontext\u001b[0m\u001b[0;34m)\u001b[0m\u001b[0;34m:\u001b[0m\u001b[0;34m\u001b[0m\u001b[0;34m\u001b[0m\u001b[0m\n\u001b[0;32m----> 6\u001b[0;31m     \u001b[0mstock_prices\u001b[0m \u001b[0;34m=\u001b[0m \u001b[0mcontext\u001b[0m\u001b[0;34m.\u001b[0m\u001b[0mstock_prices\u001b[0m\u001b[0;34m\u001b[0m\u001b[0;34m\u001b[0m\u001b[0m\n\u001b[0m\u001b[1;32m      7\u001b[0m     \u001b[0;32mreturn\u001b[0m \u001b[0mstock_prices\u001b[0m\u001b[0;34m.\u001b[0m\u001b[0mget\u001b[0m\u001b[0;34m(\u001b[0m\u001b[0mtimestamp\u001b[0m\u001b[0;34m)\u001b[0m\u001b[0;34m\u001b[0m\u001b[0;34m\u001b[0m\u001b[0m\n",
      "\u001b[0;31mAttributeError\u001b[0m: 'types.SimpleNamespace' object has no attribute 'stock_prices'",
      "\nDuring handling of the above exception, another exception occurred:\n",
      "\u001b[0;31mAttributeError\u001b[0m                            Traceback (most recent call last)",
      "\u001b[0;32m<ipython-input-5-1f4fc5d41517>\u001b[0m in \u001b[0;36m<module>\u001b[0;34m\u001b[0m\n\u001b[1;32m     28\u001b[0m     \u001b[0mstrategy\u001b[0m\u001b[0;34m.\u001b[0m\u001b[0madd_market_sim\u001b[0m\u001b[0;34m(\u001b[0m\u001b[0mmarket_simulator\u001b[0m\u001b[0;34m)\u001b[0m\u001b[0;34m\u001b[0m\u001b[0;34m\u001b[0m\u001b[0m\n\u001b[1;32m     29\u001b[0m \u001b[0;34m\u001b[0m\u001b[0m\n\u001b[0;32m---> 30\u001b[0;31m     \u001b[0mstrategy\u001b[0m\u001b[0;34m.\u001b[0m\u001b[0mrun\u001b[0m\u001b[0;34m(\u001b[0m\u001b[0;34m)\u001b[0m\u001b[0;34m\u001b[0m\u001b[0;34m\u001b[0m\u001b[0m\n\u001b[0m",
      "\u001b[0;32m~/Developer/pyqstrat/pyqstrat/strategy.py\u001b[0m in \u001b[0;36mrun\u001b[0;34m(self)\u001b[0m\n\u001b[1;32m    437\u001b[0m         \u001b[0mself\u001b[0m\u001b[0;34m.\u001b[0m\u001b[0mrun_indicators\u001b[0m\u001b[0;34m(\u001b[0m\u001b[0;34m)\u001b[0m\u001b[0;34m\u001b[0m\u001b[0;34m\u001b[0m\u001b[0m\n\u001b[1;32m    438\u001b[0m         \u001b[0mself\u001b[0m\u001b[0;34m.\u001b[0m\u001b[0mrun_signals\u001b[0m\u001b[0;34m(\u001b[0m\u001b[0;34m)\u001b[0m\u001b[0;34m\u001b[0m\u001b[0;34m\u001b[0m\u001b[0m\n\u001b[0;32m--> 439\u001b[0;31m         \u001b[0mself\u001b[0m\u001b[0;34m.\u001b[0m\u001b[0mrun_rules\u001b[0m\u001b[0;34m(\u001b[0m\u001b[0;34m)\u001b[0m\u001b[0;34m\u001b[0m\u001b[0;34m\u001b[0m\u001b[0m\n\u001b[0m\u001b[1;32m    440\u001b[0m \u001b[0;34m\u001b[0m\u001b[0m\n\u001b[1;32m    441\u001b[0m     \u001b[0;32mdef\u001b[0m \u001b[0m_get_orders\u001b[0m\u001b[0;34m(\u001b[0m\u001b[0mself\u001b[0m\u001b[0;34m,\u001b[0m \u001b[0midx\u001b[0m\u001b[0;34m:\u001b[0m \u001b[0mint\u001b[0m\u001b[0;34m,\u001b[0m \u001b[0mrule_function\u001b[0m\u001b[0;34m:\u001b[0m \u001b[0mRuleType\u001b[0m\u001b[0;34m,\u001b[0m \u001b[0mcontract_group\u001b[0m\u001b[0;34m:\u001b[0m \u001b[0mContractGroup\u001b[0m\u001b[0;34m,\u001b[0m \u001b[0mparams\u001b[0m\u001b[0;34m:\u001b[0m \u001b[0mDict\u001b[0m\u001b[0;34m[\u001b[0m\u001b[0mstr\u001b[0m\u001b[0;34m,\u001b[0m \u001b[0mAny\u001b[0m\u001b[0;34m]\u001b[0m\u001b[0;34m)\u001b[0m \u001b[0;34m->\u001b[0m \u001b[0mSequence\u001b[0m\u001b[0;34m[\u001b[0m\u001b[0mOrder\u001b[0m\u001b[0;34m]\u001b[0m\u001b[0;34m:\u001b[0m\u001b[0;34m\u001b[0m\u001b[0;34m\u001b[0m\u001b[0m\n",
      "\u001b[0;32m~/Developer/pyqstrat/pyqstrat/strategy.py\u001b[0m in \u001b[0;36mrun_rules\u001b[0;34m(self, rule_names, contract_groups, start_date, end_date)\u001b[0m\n\u001b[1;32m    407\u001b[0m         \u001b[0;31m# in the same order they were added to the strategy\u001b[0m\u001b[0;34m\u001b[0m\u001b[0;34m\u001b[0m\u001b[0;34m\u001b[0m\u001b[0m\n\u001b[1;32m    408\u001b[0m         \u001b[0;32mfor\u001b[0m \u001b[0mi\u001b[0m \u001b[0;32min\u001b[0m \u001b[0mrange\u001b[0m\u001b[0;34m(\u001b[0m\u001b[0mlen\u001b[0m\u001b[0;34m(\u001b[0m\u001b[0mself\u001b[0m\u001b[0;34m.\u001b[0m\u001b[0morders_iter\u001b[0m\u001b[0;34m)\u001b[0m\u001b[0;34m)\u001b[0m\u001b[0;34m:\u001b[0m\u001b[0;34m\u001b[0m\u001b[0;34m\u001b[0m\u001b[0m\n\u001b[0;32m--> 409\u001b[0;31m             \u001b[0mself\u001b[0m\u001b[0;34m.\u001b[0m\u001b[0m_run_iteration\u001b[0m\u001b[0;34m(\u001b[0m\u001b[0mi\u001b[0m\u001b[0;34m)\u001b[0m\u001b[0;34m\u001b[0m\u001b[0;34m\u001b[0m\u001b[0m\n\u001b[0m\u001b[1;32m    410\u001b[0m \u001b[0;34m\u001b[0m\u001b[0m\n\u001b[1;32m    411\u001b[0m         \u001b[0;32mif\u001b[0m \u001b[0mself\u001b[0m\u001b[0;34m.\u001b[0m\u001b[0mrun_final_calc\u001b[0m\u001b[0;34m:\u001b[0m\u001b[0;34m\u001b[0m\u001b[0;34m\u001b[0m\u001b[0m\n",
      "\u001b[0;32m~/Developer/pyqstrat/pyqstrat/strategy.py\u001b[0m in \u001b[0;36m_run_iteration\u001b[0;34m(self, i)\u001b[0m\n\u001b[1;32m    414\u001b[0m     \u001b[0;32mdef\u001b[0m \u001b[0m_run_iteration\u001b[0m\u001b[0;34m(\u001b[0m\u001b[0mself\u001b[0m\u001b[0;34m,\u001b[0m \u001b[0mi\u001b[0m\u001b[0;34m:\u001b[0m \u001b[0mint\u001b[0m\u001b[0;34m)\u001b[0m \u001b[0;34m->\u001b[0m \u001b[0;32mNone\u001b[0m\u001b[0;34m:\u001b[0m\u001b[0;34m\u001b[0m\u001b[0;34m\u001b[0m\u001b[0m\n\u001b[1;32m    415\u001b[0m \u001b[0;34m\u001b[0m\u001b[0m\n\u001b[0;32m--> 416\u001b[0;31m         \u001b[0mself\u001b[0m\u001b[0;34m.\u001b[0m\u001b[0m_sim_market\u001b[0m\u001b[0;34m(\u001b[0m\u001b[0mi\u001b[0m\u001b[0;34m)\u001b[0m\u001b[0;34m\u001b[0m\u001b[0;34m\u001b[0m\u001b[0m\n\u001b[0m\u001b[1;32m    417\u001b[0m         \u001b[0;31m# Treat all orders as IOC, i.e. if the order was not executed, then its cancelled.\u001b[0m\u001b[0;34m\u001b[0m\u001b[0;34m\u001b[0m\u001b[0;34m\u001b[0m\u001b[0m\n\u001b[1;32m    418\u001b[0m         \u001b[0mself\u001b[0m\u001b[0;34m.\u001b[0m\u001b[0m_open_orders\u001b[0m\u001b[0;34m[\u001b[0m\u001b[0mi\u001b[0m\u001b[0;34m]\u001b[0m \u001b[0;34m=\u001b[0m \u001b[0;34m[\u001b[0m\u001b[0;34m]\u001b[0m\u001b[0;34m\u001b[0m\u001b[0;34m\u001b[0m\u001b[0m\n",
      "\u001b[0;32m~/Developer/pyqstrat/pyqstrat/strategy.py\u001b[0m in \u001b[0;36m_sim_market\u001b[0;34m(self, i)\u001b[0m\n\u001b[1;32m    468\u001b[0m                 \u001b[0mself\u001b[0m\u001b[0;34m.\u001b[0m\u001b[0m_trades\u001b[0m \u001b[0;34m+=\u001b[0m \u001b[0mtrades\u001b[0m\u001b[0;34m\u001b[0m\u001b[0;34m\u001b[0m\u001b[0m\n\u001b[1;32m    469\u001b[0m             \u001b[0;32mexcept\u001b[0m \u001b[0mException\u001b[0m \u001b[0;32mas\u001b[0m \u001b[0me\u001b[0m\u001b[0;34m:\u001b[0m\u001b[0;34m\u001b[0m\u001b[0;34m\u001b[0m\u001b[0m\n\u001b[0;32m--> 470\u001b[0;31m                 \u001b[0;32mraise\u001b[0m \u001b[0mtype\u001b[0m\u001b[0;34m(\u001b[0m\u001b[0me\u001b[0m\u001b[0;34m)\u001b[0m\u001b[0;34m(\u001b[0m\u001b[0;34mf'Exception: {str(e)} at index: {i} function: {market_sim_function}'\u001b[0m\u001b[0;34m)\u001b[0m\u001b[0;34m.\u001b[0m\u001b[0mwith_traceback\u001b[0m\u001b[0;34m(\u001b[0m\u001b[0msys\u001b[0m\u001b[0;34m.\u001b[0m\u001b[0mexc_info\u001b[0m\u001b[0;34m(\u001b[0m\u001b[0;34m)\u001b[0m\u001b[0;34m[\u001b[0m\u001b[0;36m2\u001b[0m\u001b[0;34m]\u001b[0m\u001b[0;34m)\u001b[0m\u001b[0;34m\u001b[0m\u001b[0;34m\u001b[0m\u001b[0m\n\u001b[0m\u001b[1;32m    471\u001b[0m \u001b[0;34m\u001b[0m\u001b[0m\n\u001b[1;32m    472\u001b[0m         \u001b[0mself\u001b[0m\u001b[0;34m.\u001b[0m\u001b[0m_open_orders\u001b[0m\u001b[0;34m[\u001b[0m\u001b[0mi\u001b[0m\u001b[0;34m]\u001b[0m \u001b[0;34m=\u001b[0m \u001b[0;34m[\u001b[0m\u001b[0morder\u001b[0m \u001b[0;32mfor\u001b[0m \u001b[0morder\u001b[0m \u001b[0;32min\u001b[0m \u001b[0mopen_orders\u001b[0m \u001b[0;32mif\u001b[0m \u001b[0morder\u001b[0m\u001b[0;34m.\u001b[0m\u001b[0mstatus\u001b[0m \u001b[0;34m!=\u001b[0m \u001b[0;34m'filled'\u001b[0m\u001b[0;34m]\u001b[0m\u001b[0;34m\u001b[0m\u001b[0;34m\u001b[0m\u001b[0m\n",
      "\u001b[0;32m~/Developer/pyqstrat/pyqstrat/strategy.py\u001b[0m in \u001b[0;36m_sim_market\u001b[0;34m(self, i)\u001b[0m\n\u001b[1;32m    464\u001b[0m         \u001b[0;32mfor\u001b[0m \u001b[0mmarket_sim_function\u001b[0m \u001b[0;32min\u001b[0m \u001b[0mself\u001b[0m\u001b[0;34m.\u001b[0m\u001b[0mmarket_sims\u001b[0m\u001b[0;34m:\u001b[0m\u001b[0;34m\u001b[0m\u001b[0;34m\u001b[0m\u001b[0m\n\u001b[1;32m    465\u001b[0m             \u001b[0;32mtry\u001b[0m\u001b[0;34m:\u001b[0m\u001b[0;34m\u001b[0m\u001b[0;34m\u001b[0m\u001b[0m\n\u001b[0;32m--> 466\u001b[0;31m                 \u001b[0mtrades\u001b[0m \u001b[0;34m=\u001b[0m \u001b[0mmarket_sim_function\u001b[0m\u001b[0;34m(\u001b[0m\u001b[0mopen_orders\u001b[0m\u001b[0;34m,\u001b[0m \u001b[0mi\u001b[0m\u001b[0;34m,\u001b[0m \u001b[0mself\u001b[0m\u001b[0;34m.\u001b[0m\u001b[0mtimestamps\u001b[0m\u001b[0;34m,\u001b[0m \u001b[0mself\u001b[0m\u001b[0;34m.\u001b[0m\u001b[0mindicator_values\u001b[0m\u001b[0;34m,\u001b[0m \u001b[0mself\u001b[0m\u001b[0;34m.\u001b[0m\u001b[0msignal_values\u001b[0m\u001b[0;34m,\u001b[0m \u001b[0mself\u001b[0m\u001b[0;34m.\u001b[0m\u001b[0mstrategy_context\u001b[0m\u001b[0;34m)\u001b[0m\u001b[0;34m\u001b[0m\u001b[0;34m\u001b[0m\u001b[0m\n\u001b[0m\u001b[1;32m    467\u001b[0m                 \u001b[0;32mif\u001b[0m \u001b[0mlen\u001b[0m\u001b[0;34m(\u001b[0m\u001b[0mtrades\u001b[0m\u001b[0;34m)\u001b[0m\u001b[0;34m:\u001b[0m \u001b[0mself\u001b[0m\u001b[0;34m.\u001b[0m\u001b[0maccount\u001b[0m\u001b[0;34m.\u001b[0m\u001b[0madd_trades\u001b[0m\u001b[0;34m(\u001b[0m\u001b[0mtrades\u001b[0m\u001b[0;34m)\u001b[0m\u001b[0;34m\u001b[0m\u001b[0;34m\u001b[0m\u001b[0m\n\u001b[1;32m    468\u001b[0m                 \u001b[0mself\u001b[0m\u001b[0;34m.\u001b[0m\u001b[0m_trades\u001b[0m \u001b[0;34m+=\u001b[0m \u001b[0mtrades\u001b[0m\u001b[0;34m\u001b[0m\u001b[0;34m\u001b[0m\u001b[0m\n",
      "\u001b[0;32m<ipython-input-4-169eeb903864>\u001b[0m in \u001b[0;36mmarket_simulator\u001b[0;34m(orders, i, timestamps, indicators, signals, context)\u001b[0m\n\u001b[1;32m    143\u001b[0m             \u001b[0mcommission\u001b[0m \u001b[0;34m=\u001b[0m \u001b[0mabs\u001b[0m\u001b[0;34m(\u001b[0m\u001b[0morder\u001b[0m\u001b[0;34m.\u001b[0m\u001b[0mqty\u001b[0m\u001b[0;34m)\u001b[0m\u001b[0;34m\u001b[0m\u001b[0;34m\u001b[0m\u001b[0m\n\u001b[1;32m    144\u001b[0m         \u001b[0;32melse\u001b[0m\u001b[0;34m:\u001b[0m\u001b[0;34m\u001b[0m\u001b[0;34m\u001b[0m\u001b[0m\n\u001b[0;32m--> 145\u001b[0;31m             \u001b[0mtrade_price\u001b[0m \u001b[0;34m=\u001b[0m \u001b[0mget_stock_price\u001b[0m\u001b[0;34m(\u001b[0m\u001b[0mcontract\u001b[0m\u001b[0;34m.\u001b[0m\u001b[0msymbol\u001b[0m\u001b[0;34m,\u001b[0m \u001b[0mtimestamp\u001b[0m\u001b[0;34m,\u001b[0m \u001b[0mcontext\u001b[0m\u001b[0;34m)\u001b[0m\u001b[0;34m\u001b[0m\u001b[0;34m\u001b[0m\u001b[0m\n\u001b[0m\u001b[1;32m    146\u001b[0m             \u001b[0mcommission\u001b[0m \u001b[0;34m=\u001b[0m \u001b[0;36m0.005\u001b[0m \u001b[0;34m*\u001b[0m \u001b[0mabs\u001b[0m\u001b[0;34m(\u001b[0m\u001b[0morder\u001b[0m\u001b[0;34m.\u001b[0m\u001b[0mqty\u001b[0m\u001b[0;34m)\u001b[0m\u001b[0;34m\u001b[0m\u001b[0;34m\u001b[0m\u001b[0m\n\u001b[1;32m    147\u001b[0m         \u001b[0mtrade\u001b[0m \u001b[0;34m=\u001b[0m \u001b[0mpq\u001b[0m\u001b[0;34m.\u001b[0m\u001b[0mTrade\u001b[0m\u001b[0;34m(\u001b[0m\u001b[0morder\u001b[0m\u001b[0;34m.\u001b[0m\u001b[0mcontract\u001b[0m\u001b[0;34m,\u001b[0m \u001b[0morder\u001b[0m\u001b[0;34m,\u001b[0m \u001b[0mtimestamp\u001b[0m\u001b[0;34m,\u001b[0m \u001b[0morder\u001b[0m\u001b[0;34m.\u001b[0m\u001b[0mqty\u001b[0m\u001b[0;34m,\u001b[0m \u001b[0mtrade_price\u001b[0m\u001b[0;34m,\u001b[0m \u001b[0mcommission\u001b[0m \u001b[0;34m=\u001b[0m \u001b[0mcommission\u001b[0m\u001b[0;34m)\u001b[0m\u001b[0;34m\u001b[0m\u001b[0;34m\u001b[0m\u001b[0m\n",
      "\u001b[0;32m<ipython-input-3-79708d8e3a88>\u001b[0m in \u001b[0;36mget_stock_price\u001b[0;34m(symbol, timestamp, context)\u001b[0m\n\u001b[1;32m      4\u001b[0m \u001b[0;34m\u001b[0m\u001b[0m\n\u001b[1;32m      5\u001b[0m \u001b[0;32mdef\u001b[0m \u001b[0mget_stock_price\u001b[0m\u001b[0;34m(\u001b[0m\u001b[0msymbol\u001b[0m\u001b[0;34m,\u001b[0m \u001b[0mtimestamp\u001b[0m\u001b[0;34m,\u001b[0m \u001b[0mcontext\u001b[0m\u001b[0;34m)\u001b[0m\u001b[0;34m:\u001b[0m\u001b[0;34m\u001b[0m\u001b[0;34m\u001b[0m\u001b[0m\n\u001b[0;32m----> 6\u001b[0;31m     \u001b[0mstock_prices\u001b[0m \u001b[0;34m=\u001b[0m \u001b[0mcontext\u001b[0m\u001b[0;34m.\u001b[0m\u001b[0mstock_prices\u001b[0m\u001b[0;34m\u001b[0m\u001b[0;34m\u001b[0m\u001b[0m\n\u001b[0m\u001b[1;32m      7\u001b[0m     \u001b[0;32mreturn\u001b[0m \u001b[0mstock_prices\u001b[0m\u001b[0;34m.\u001b[0m\u001b[0mget\u001b[0m\u001b[0;34m(\u001b[0m\u001b[0mtimestamp\u001b[0m\u001b[0;34m)\u001b[0m\u001b[0;34m\u001b[0m\u001b[0;34m\u001b[0m\u001b[0m\n\u001b[1;32m      8\u001b[0m \u001b[0;34m\u001b[0m\u001b[0m\n",
      "\u001b[0;31mAttributeError\u001b[0m: Exception: 'types.SimpleNamespace' object has no attribute 'stock_prices' at index: 15 function: <function market_simulator at 0x11bdc9d40>"
     ]
    }
   ],
   "source": [
    "if __name__ == \"__main__\":\n",
    "    # Clear global state so we can rerun without restarting python\n",
    "    pq.ContractGroup.clear()\n",
    "    pq.Contract.clear()\n",
    "    \n",
    "    straddle_contract_group = pq.ContractGroup.create('Straddle')\n",
    "    hedge_contract_group = pq.ContractGroup.create('Hedge')\n",
    "    \n",
    "    strategy_context.straddle_entry_time = None\n",
    "    strategy_context.straddle_exit_time = None\n",
    "    strategy_context.hedge_contract_group = hedge_contract_group\n",
    "  \n",
    "    strategy = pq.Strategy(timestamps = timestamps, \n",
    "                           contract_groups = [straddle_contract_group, hedge_contract_group],\n",
    "                           price_function = get_price,\n",
    "                           strategy_context = strategy_context,\n",
    "                           trade_lag = 1,\n",
    "                           starting_equity = 1e7)\n",
    "\n",
    "    strategy.add_indicator('close_price', close_prices, contract_groups = [straddle_contract_group])\n",
    "    strategy.add_indicator('implied_vol', implied_vol, contract_groups = [straddle_contract_group])\n",
    "            \n",
    "    strategy.add_signal('straddle_entry', straddle_entry_signal, contract_groups = [straddle_contract_group], depends_on_indicators = ['implied_vol'])\n",
    "    strategy.add_signal('straddle_exit', straddle_exit_signal, contract_groups = [straddle_contract_group])\n",
    "\n",
    "    strategy.add_rule('straddle_entry', straddle_entry_rule, signal_name = 'straddle_entry', position_filter = 'zero')\n",
    "    strategy.add_rule('straddle_exit', straddle_exit_rule, signal_name = 'straddle_exit', position_filter = 'nonzero')\n",
    "    strategy.add_market_sim(market_simulator)\n",
    "    \n",
    "    strategy.run()"
   ]
  },
  {
   "cell_type": "code",
   "execution_count": null,
   "metadata": {
    "ExecuteTime": {
     "end_time": "2020-04-08T22:29:35.251379Z",
     "start_time": "2020-04-08T22:29:32.974Z"
    },
    "run_control": {
     "frozen": false,
     "read_only": false
    }
   },
   "outputs": [],
   "source": [
    "strategy.account.df_pnl()"
   ]
  },
  {
   "cell_type": "code",
   "execution_count": null,
   "metadata": {
    "ExecuteTime": {
     "end_time": "2020-04-08T22:29:35.252608Z",
     "start_time": "2020-04-08T22:29:32.975Z"
    },
    "run_control": {
     "frozen": false,
     "read_only": false
    }
   },
   "outputs": [],
   "source": [
    "strategy.evaluate_returns();"
   ]
  },
  {
   "cell_type": "code",
   "execution_count": null,
   "metadata": {
    "ExecuteTime": {
     "end_time": "2020-04-08T22:29:35.253904Z",
     "start_time": "2020-04-08T22:29:32.977Z"
    },
    "run_control": {
     "frozen": false,
     "read_only": false
    }
   },
   "outputs": [],
   "source": [
    "strategy.plot(primary_indicators = ['close_price'], secondary_indicators=['implied_vol'])"
   ]
  }
 ],
 "metadata": {
  "kernelspec": {
   "display_name": "Python 3",
   "language": "python",
   "name": "python3"
  },
  "language_info": {
   "codemirror_mode": {
    "name": "ipython",
    "version": 3
   },
   "file_extension": ".py",
   "mimetype": "text/x-python",
   "name": "python",
   "nbconvert_exporter": "python",
   "pygments_lexer": "ipython3",
   "version": "3.7.6"
  }
 },
 "nbformat": 4,
 "nbformat_minor": 2
}
