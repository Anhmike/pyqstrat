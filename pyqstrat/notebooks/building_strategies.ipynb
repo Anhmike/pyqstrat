{
 "cells": [
  {
   "cell_type": "markdown",
   "metadata": {
    "run_control": {
     "frozen": false,
     "read_only": false
    }
   },
   "source": [
    "Bollinger Bands&copy; are used in trend following strategies.  See https://www.bollingerbands.com for more information.\n",
    "\n",
    "We use a moving average of the price of a security, and an upper and lower band around this price.  When the price moves above the upper band, we buy and when the price moves below the lower band we sell."
   ]
  },
  {
   "cell_type": "markdown",
   "metadata": {
    "ExecuteTime": {
     "end_time": "2018-08-03T16:45:21.511071Z",
     "start_time": "2018-08-03T16:45:21.506687Z"
    }
   },
   "source": [
    "First, lets load some data.  We are going to use 15 minute prices for Pepsi stock (symbol PEP) over 1 week"
   ]
  },
  {
   "cell_type": "code",
   "execution_count": 1,
   "metadata": {
    "ExecuteTime": {
     "end_time": "2019-10-22T01:47:48.654553Z",
     "start_time": "2019-10-22T01:47:47.492912Z"
    },
    "run_control": {
     "frozen": false,
     "read_only": false
    }
   },
   "outputs": [],
   "source": [
    "import math\n",
    "import datetime\n",
    "import numpy as np\n",
    "import pandas as pd\n",
    "import matplotlib.pyplot as plt\n",
    "import scipy.stats\n",
    "import os\n",
    "from types import SimpleNamespace\n",
    "\n",
    "import pyqstrat as pq\n",
    "\n",
    "pq.set_defaults() # Set some display defaults to make dataframes and plots easier to look at\n",
    "\n",
    "try:\n",
    "    file_path = os.path.dirname(os.path.realpath(__file__)) + '/../notebooks/support/pepsi_15_min_prices.csv.gz' # If we are running from unit tests\n",
    "except:\n",
    "    file_path = '../notebooks/support/pepsi_15_min_prices.csv.gz'\n",
    "    \n",
    "prices = pd.read_csv(file_path)\n",
    "prices.date = pd.to_datetime(prices.date)"
   ]
  },
  {
   "cell_type": "markdown",
   "metadata": {
    "ExecuteTime": {
     "end_time": "2018-08-06T20:15:57.458367Z",
     "start_time": "2018-08-06T20:15:57.396777Z"
    }
   },
   "source": [
    "Lets add the Bollinger Band functions.  Let's set the middle band to the 20 bar simple moving average of the close, and the upper and lower bands to 1 standard deviation away from the middle band.  We also a strategy context object that contains any state variables we want to use for this strategy.  The strategy passes this strategy context to functions that it calls so we can pass around any user defined state.  We also create a contract group.  A contract group is useful for futures and options where the underlying instruments expire, but we want to treat them as one virtual instrument in our code."
   ]
  },
  {
   "cell_type": "code",
   "execution_count": 2,
   "metadata": {
    "ExecuteTime": {
     "end_time": "2019-10-22T01:47:48.918164Z",
     "start_time": "2019-10-22T01:47:48.656801Z"
    },
    "run_control": {
     "frozen": false,
     "read_only": false
    }
   },
   "outputs": [
    {
     "ename": "TypeError",
     "evalue": "__init__() missing 1 required positional argument: 'values'",
     "output_type": "error",
     "traceback": [
      "\u001b[0;31m---------------------------------------------------------------------------\u001b[0m",
      "\u001b[0;31mTypeError\u001b[0m                                 Traceback (most recent call last)",
      "\u001b[0;32m<ipython-input-2-7aaf6c89205e>\u001b[0m in \u001b[0;36m<module>\u001b[0;34m\u001b[0m\n\u001b[1;32m     30\u001b[0m \u001b[0;34m\u001b[0m\u001b[0m\n\u001b[1;32m     31\u001b[0m indicator_subplot = pq.Subplot(\n\u001b[0;32m---> 32\u001b[0;31m     [pq.TimeSeries('price', timestamps, display_attributes=pq.LinePlotAttributes(prices.c, color = 'blue')), \n\u001b[0m\u001b[1;32m     33\u001b[0m      \u001b[0mpq\u001b[0m\u001b[0;34m.\u001b[0m\u001b[0mTimeSeries\u001b[0m\u001b[0;34m(\u001b[0m\u001b[0;34m'sma'\u001b[0m\u001b[0;34m,\u001b[0m \u001b[0mtimestamps\u001b[0m\u001b[0;34m,\u001b[0m \u001b[0msma_values\u001b[0m\u001b[0;34m,\u001b[0m \u001b[0mdisplay_attributes\u001b[0m\u001b[0;34m=\u001b[0m\u001b[0mpq\u001b[0m\u001b[0;34m.\u001b[0m\u001b[0mLinePlotAttributes\u001b[0m\u001b[0;34m(\u001b[0m\u001b[0mline_type\u001b[0m \u001b[0;34m=\u001b[0m \u001b[0;34m'dotted'\u001b[0m\u001b[0;34m,\u001b[0m \u001b[0mcolor\u001b[0m \u001b[0;34m=\u001b[0m \u001b[0;34m'red'\u001b[0m\u001b[0;34m)\u001b[0m\u001b[0;34m)\u001b[0m\u001b[0;34m,\u001b[0m\u001b[0;34m\u001b[0m\u001b[0;34m\u001b[0m\u001b[0m\n\u001b[1;32m     34\u001b[0m      \u001b[0mpq\u001b[0m\u001b[0;34m.\u001b[0m\u001b[0mTimeSeries\u001b[0m\u001b[0;34m(\u001b[0m\u001b[0;34m'upper band'\u001b[0m\u001b[0;34m,\u001b[0m \u001b[0mtimestamps\u001b[0m\u001b[0;34m,\u001b[0m \u001b[0mupper_band_values\u001b[0m\u001b[0;34m,\u001b[0m \u001b[0mdisplay_attributes\u001b[0m\u001b[0;34m=\u001b[0m\u001b[0mpq\u001b[0m\u001b[0;34m.\u001b[0m\u001b[0mLinePlotAttributes\u001b[0m\u001b[0;34m(\u001b[0m\u001b[0mline_type\u001b[0m \u001b[0;34m=\u001b[0m \u001b[0;34m'dashed'\u001b[0m\u001b[0;34m,\u001b[0m \u001b[0mcolor\u001b[0m \u001b[0;34m=\u001b[0m \u001b[0;34m'green'\u001b[0m\u001b[0;34m)\u001b[0m\u001b[0;34m)\u001b[0m\u001b[0;34m,\u001b[0m\u001b[0;34m\u001b[0m\u001b[0;34m\u001b[0m\u001b[0m\n",
      "\u001b[0;31mTypeError\u001b[0m: __init__() missing 1 required positional argument: 'values'"
     ]
    }
   ],
   "source": [
    "def sma(contract_group, timestamps, indicators, strategy_context): # simple moving average\n",
    "    sma = pd.Series(indicators.c).rolling(window = strategy_context.lookback_period).mean()\n",
    "    return sma.values\n",
    "\n",
    "def band(contract_group, timestamps, indicators, strategy_context, upper):\n",
    "    std = pd.Series(indicators.c).rolling(window = strategy_context.lookback_period).std()\n",
    "    return indicators.sma + strategy_context.num_std * std * (1 if upper else -1)\n",
    "\n",
    "# Each band is 1 standard deviations away from the moving average of price\n",
    "# Lookback period is 20 bars\n",
    "strategy_context = SimpleNamespace(num_std = 1, lookback_period = 20)\n",
    "contract_group = pq.ContractGroup.create('PEP')\n",
    "contract = pq.Contract.create('PEP', contract_group)\n",
    "\n",
    "timestamps = prices.date.values\n",
    "\n",
    "bb_indicators = SimpleNamespace(o = prices.o, h = prices.h, l = prices.l, c = prices.c)\n",
    "\n",
    "sma_values = sma(contract, timestamps, bb_indicators, strategy_context)\n",
    "bb_indicators.sma = sma_values\n",
    "\n",
    "upper_band = lambda contract_group, timestamps, indicators, strategy_context : \\\n",
    "    band(contract_group, timestamps, indicators, strategy_context, upper = True)\n",
    "\n",
    "lower_band = lambda contract_group, timestamps, indicators, strategy_context : \\\n",
    "    band(contract_group, timestamps, indicators, strategy_context, upper = False)\n",
    "\n",
    "upper_band_values = upper_band(contract, timestamps, bb_indicators, strategy_context)\n",
    "lower_band_values = lower_band(contract, timestamps, bb_indicators, strategy_context)\n",
    "\n",
    "indicator_subplot = pq.Subplot(\n",
    "    [pq.TimeSeries('price', timestamps, display_attributes=pq.LinePlotAttributes(prices.c, color = 'blue')), \n",
    "     pq.TimeSeries('sma', timestamps, sma_values, display_attributes=pq.LinePlotAttributes(line_type = 'dotted', color = 'red')),\n",
    "     pq.TimeSeries('upper band', timestamps, upper_band_values, display_attributes=pq.LinePlotAttributes(line_type = 'dashed', color = 'green')),\n",
    "     pq.TimeSeries('lower_band', timestamps, lower_band_values, display_attributes=pq.LinePlotAttributes(line_type = 'dashed', color = 'green'))\n",
    "    ],\n",
    "    ylabel = 'Indicators')\n",
    "plot = pq.Plot(indicator_subplot, title = 'PEP')\n",
    "plot.draw();"
   ]
  },
  {
   "cell_type": "markdown",
   "metadata": {},
   "source": [
    "The price, bands and the moving average are called \"indicators\" in pyqstrat.  Indicators are the fundamental building blocks of any strategy.\n",
    "\n",
    "Now lets create a signal.  A signal uses marketdata and indicators and tells a strategy when to create orders.  In this case we buy when the price crosses the upper band and exit when the price crosses the moving average.  Similarly, we sell when the price crosses the lower band and exit when it crosses the moving average.  We create 4 different values of the signal, +2, -2, +1, -1 to signal all 4 of these conditions."
   ]
  },
  {
   "cell_type": "code",
   "execution_count": null,
   "metadata": {
    "ExecuteTime": {
     "end_time": "2019-10-22T01:47:48.920589Z",
     "start_time": "2019-10-22T01:47:47.494Z"
    },
    "run_control": {
     "frozen": false,
     "read_only": false
    }
   },
   "outputs": [],
   "source": [
    "def bollinger_band_signal(contract_group, timestamps, indicators, parent_signals, strategy_context):\n",
    "    # Replace nans with 0 so we don't get errors later when comparing nans to floats\n",
    "    upper_band = np.nan_to_num(indicators.upper_band)\n",
    "    lower_band = np.nan_to_num(indicators.lower_band)\n",
    "    sma = np.nan_to_num(indicators.sma)\n",
    "    \n",
    "    signal = np.where(indicators.h > upper_band, 2, 0)\n",
    "    signal = np.where(indicators.l < lower_band, -2, signal)\n",
    "    signal = np.where((indicators.h > sma) & (signal == 0), 1, signal) # price crossed above simple moving avg but not above upper band\n",
    "    signal = np.where((indicators.l < sma) & (signal == 0), -1, signal) # price crossed below simple moving avg but not below lower band\n",
    "    return signal"
   ]
  },
  {
   "cell_type": "markdown",
   "metadata": {},
   "source": [
    "Let's plot the signal in a subplot along with the indicators to check whether it looks reasonable"
   ]
  },
  {
   "cell_type": "code",
   "execution_count": null,
   "metadata": {
    "ExecuteTime": {
     "end_time": "2019-10-22T01:47:48.922270Z",
     "start_time": "2019-10-22T01:47:47.496Z"
    },
    "run_control": {
     "frozen": false,
     "read_only": false
    },
    "scrolled": true
   },
   "outputs": [],
   "source": [
    "bb_indicators.upper_band = upper_band_values\n",
    "bb_indicators.lower_band = lower_band_values\n",
    "bb_indicators.sma = sma_values\n",
    "\n",
    "signal = bollinger_band_signal(contract, timestamps, bb_indicators, None,strategy_context)\n",
    "signal_subplot = pq.Subplot([pq.TimeSeries('signal', timestamps, signal)], ylabel = 'Signal')\n",
    "plot = pq.Plot([indicator_subplot, signal_subplot], title = 'BTC', show_date_gaps = False)\n",
    "plot.draw();"
   ]
  },
  {
   "cell_type": "markdown",
   "metadata": {
    "ExecuteTime": {
     "end_time": "2018-08-06T19:51:47.743290Z",
     "start_time": "2018-08-06T19:51:47.739748Z"
    }
   },
   "source": [
    "This is hard to see clearly so let's look at a smaller date range"
   ]
  },
  {
   "cell_type": "code",
   "execution_count": null,
   "metadata": {
    "ExecuteTime": {
     "end_time": "2019-10-22T01:47:48.923861Z",
     "start_time": "2019-10-22T01:47:47.497Z"
    },
    "run_control": {
     "frozen": false,
     "read_only": false
    }
   },
   "outputs": [],
   "source": [
    "plot = pq.Plot([indicator_subplot, signal_subplot], title = 'PEP', date_range = ('2019-01-14', '2019-01-18'))\n",
    "plot.draw();"
   ]
  },
  {
   "cell_type": "markdown",
   "metadata": {},
   "source": [
    "This looks good.  The signal behaves as we would expect.\n",
    "\n",
    "The next step is to create a trading rule.  pyqstrat will call a trading rule function when the value of it's associated signal changes value, or when we have live orders in the market that have not been filled.  A trading rule decides whether or not to take action on the signal.  If it decides to take action, it returns a list of one or more orders.  This is also where margin decisions are made, i.e. the trading rule code should calculate how much margin is needed, and not place orders if margin is exceeded.\n",
    "\n",
    "Trading rules are usually path dependent, i.e. they cannot be vectorized like indicators and signals can, since they can depend on current position, risk, or other data which are dependent on previous orders and trades.  \n",
    "\n",
    "Because of this path dependence, pyqstrat calls order rule functions in a loop, once per date.  This is the part of the code (along with market simulation) that you should optimize as much as you can.\n",
    "\n",
    "Lets build the trading rule.  We will risk 10% of our current equity when going long or short.  When entering a position, we use a stop order.  This means the system will only enter if the price crosses the current close during the next bar.  We are trying to avoid a case where we cross a bollinger band in this bar but then price immediately goes the other way in the next bar, in which case we should not enter the trade.  We will ignore margin in this case for simplicity.  If we wanted to check margin, we would add code here that would check if margin would be exceeded (based on broker specific logic), and modify the order qty accordingly.\n",
    "\n",
    "We are using predefined order reason codes when we create orders below.  Reason codes are optional strings that we use to identify why we entered an order and are useful for debugging and for plotting.  You can use an arbitrary string as a reason code.  If you later want to identify those trades in a plot, you will have to provide a mapping between your reason codes and the marker shape, size and color used for that reason code."
   ]
  },
  {
   "cell_type": "code",
   "execution_count": null,
   "metadata": {
    "ExecuteTime": {
     "end_time": "2019-10-22T01:47:48.925123Z",
     "start_time": "2019-10-22T01:47:47.499Z"
    },
    "run_control": {
     "frozen": false,
     "read_only": false
    }
   },
   "outputs": [],
   "source": [
    "def bollinger_band_trading_rule(contract_group, i, timestamps, indicators, signal, account, strategy_context):\n",
    "    timestamp = timestamps[i]\n",
    "    curr_pos = account.position(contract_group, timestamp)\n",
    "    signal_value = signal[i]\n",
    "    risk_percent = 0.1\n",
    "    close_price = indicators.c[i]\n",
    "    \n",
    "    contract = contract_group.get_contract('PEP')\n",
    "    if contract is None:\n",
    "        contract = pq.Contract.create(symbol = 'PEP', contract_group = contract_group)\n",
    "        \n",
    "    order = None\n",
    "    # if we don't already have a position, check if we should enter a trade\n",
    "    if math.isclose(curr_pos, 0):\n",
    "        if signal_value == 2 or signal_value == -2:\n",
    "            curr_equity = account.equity(timestamp)\n",
    "            order_qty = np.round(curr_equity * risk_percent / close_price * np.sign(signal_value))\n",
    "            trigger_price = close_price\n",
    "            reason_code = pq.ReasonCode.ENTER_LONG if order_qty > 0 else pq.ReasonCode.ENTER_SHORT\n",
    "            order = pq.StopLimitOrder(contract, timestamp, order_qty, trigger_price, reason_code = reason_code)\n",
    "    else: # We have a current position, so check if we should exit\n",
    "        if (curr_pos > 0 and signal_value == -1) or (curr_pos < 0 and signal_value == 1):\n",
    "            order_qty = -curr_pos\n",
    "            reason_code = pq.ReasonCode.EXIT_LONG if order_qty < 0 else pq.ReasonCode.EXIT_SHORT\n",
    "            order = pq.MarketOrder(contract, timestamp, order_qty, reason_code = reason_code)\n",
    "            \n",
    "    if order is not None:\n",
    "        if order_qty > 0: \n",
    "            print(f'Enter: {timestamp.astype(\"M8[m]\")} {order}')\n",
    "        else:\n",
    "            print(f'Exit: {timestamp.astype(\"M8[m]\")} {order}')\n",
    "            \n",
    "    return [order] if order is not None else []"
   ]
  },
  {
   "cell_type": "markdown",
   "metadata": {},
   "source": [
    "We need to write one more function, a market simulator.  The market simulator decides whether open orders will be filled, and at what price.  This is where you would add slippage, commissions and fees.  You can add a different market simulator for each symbol, since liquidity and market rules are clearly different when trading an IBM stock on NYSE versus trading a E-mini future on CME.  pyqstrat will call the market simulator on the next bar after you add an order since you obviously cannot get filled using prices you already saw and used to construct your order.  In this simulator we fill buy market orders half way between the open and the high for the current bar, and we fill sells half way between the open and the low. Stop orders are filled halfway between the trigger price and the high or low.  Lets assume commission of $5 per contract and no other fees."
   ]
  },
  {
   "cell_type": "code",
   "execution_count": null,
   "metadata": {
    "ExecuteTime": {
     "end_time": "2019-10-22T01:47:48.926291Z",
     "start_time": "2019-10-22T01:47:47.500Z"
    },
    "run_control": {
     "frozen": false,
     "read_only": false
    }
   },
   "outputs": [],
   "source": [
    "def market_simulator(orders, i, timestamps, indicators, signals, strategy_context):\n",
    "    trades = []\n",
    "    timestamp = timestamps[i]\n",
    "    \n",
    "    \n",
    "    for order in orders:\n",
    "        cgroup = order.contract.contract_group\n",
    "        ind = indicators[cgroup]\n",
    "        o, h, l, c = ind.o[i], ind.h[i], ind.l[i], ind.c[i]\n",
    "        \n",
    "        trade_price = np.nan\n",
    "        \n",
    "        if isinstance(order, pq.MarketOrder):\n",
    "            trade_price = 0.5 * (o + h) if order.qty > 0 else 0.5 * (o + l)\n",
    "        elif isinstance(order, pq.StopLimitOrder):\n",
    "            if (order.qty > 0 and h > order.trigger_price) or (order.qty < 0 and l < order.trigger_price): # A stop order\n",
    "                trade_price = 0.5 * (order.trigger_price + h) if order.qty > 0 else 0.5 * (order.trigger_price + l)\n",
    "        else:\n",
    "            raise Exception(f'unexpected order type: {order}')\n",
    "            \n",
    "        if np.isnan(trade_price): continue\n",
    "            \n",
    "        trade = pq.Trade(order.contract, timestamp, order.qty, trade_price, order = order, commission = order.qty * 5, fee = 0)\n",
    "        print(f'Trade: {timestamp.astype(\"M8[m]\")} {trade}')\n",
    "        order.status = 'filled'\n",
    "                           \n",
    "        trades.append(trade)\n",
    "                           \n",
    "    return trades"
   ]
  },
  {
   "cell_type": "markdown",
   "metadata": {},
   "source": [
    "We also need a price function that the strategy calls when it needs to compute P&L, for example when you ask for current equity in trading rule code."
   ]
  },
  {
   "cell_type": "code",
   "execution_count": null,
   "metadata": {
    "ExecuteTime": {
     "end_time": "2019-10-22T01:47:48.927457Z",
     "start_time": "2019-10-22T01:47:47.502Z"
    },
    "run_control": {
     "frozen": false,
     "read_only": false
    }
   },
   "outputs": [],
   "source": [
    "def get_price(contract, timestamps, i, strategy_context):\n",
    "    return prices.c[i]"
   ]
  },
  {
   "cell_type": "markdown",
   "metadata": {},
   "source": [
    "Now lets create the strategy and run it.\n",
    "\n",
    "**Note that we set the trade_lag argument to 1 so that there is at least one bar between the time we place the order and the time the system creates a trade.**\n",
    "\n",
    "This is good practice, since in practice some time elapses between you getting market data and placing the order and the exchange executing the order.  However, if you only have daily bars, you may want to simulate executing at the same price at which you placed the order, since a one day lag is obviously too long.  In this case you would use the default trade lag, which is 0."
   ]
  },
  {
   "cell_type": "code",
   "execution_count": null,
   "metadata": {
    "ExecuteTime": {
     "end_time": "2019-10-22T01:47:48.928696Z",
     "start_time": "2019-10-22T01:47:47.504Z"
    },
    "run_control": {
     "frozen": false,
     "read_only": false
    }
   },
   "outputs": [],
   "source": [
    "def build_strategy(contract_group, strategy_context):\n",
    "    strategy = pq.Strategy(timestamps, [contract_group], get_price, trade_lag = 1, strategy_context = strategy_context)\n",
    "    \n",
    "    strategy.add_indicator('o', prices.o.values)\n",
    "    strategy.add_indicator('c', prices.c.values)\n",
    "    strategy.add_indicator('h', prices.h.values)\n",
    "    strategy.add_indicator('l', prices.l.values)\n",
    "    strategy.add_indicator('sma', sma, depends_on = ['c'])\n",
    "    strategy.add_indicator('upper_band', upper_band, depends_on = ['c', 'sma'])\n",
    "    strategy.add_indicator('lower_band', lower_band, depends_on = ['c', 'sma'])\n",
    "    \n",
    "    strategy.add_signal('bb_signal', bollinger_band_signal, depends_on_indicators = ['h', 'l', 'sma', 'upper_band', 'lower_band'])\n",
    "\n",
    "    # ask pqstrat to call our trading rule when the signal has one of the values [-2, -1, 1, 2]\n",
    "    strategy.add_rule('bb_trading_rule', bollinger_band_trading_rule, \n",
    "                      signal_name = 'bb_signal', sig_true_values = [-2, -1, 1, 2])\n",
    "\n",
    "    strategy.add_market_sim(market_simulator)\n",
    "    \n",
    "    return strategy\n",
    "\n",
    "\n",
    "strategy_context = SimpleNamespace(lookback_period = 20, num_std = 1)\n",
    "strategy = build_strategy(contract_group, strategy_context)\n",
    "strategy.run()"
   ]
  },
  {
   "cell_type": "markdown",
   "metadata": {},
   "source": [
    "Lets plot our strategy and our portfolio and evaluate our returns  "
   ]
  },
  {
   "cell_type": "code",
   "execution_count": null,
   "metadata": {
    "ExecuteTime": {
     "end_time": "2019-10-22T01:47:48.930298Z",
     "start_time": "2019-10-22T01:47:47.505Z"
    },
    "run_control": {
     "frozen": false,
     "read_only": false
    },
    "scrolled": true
   },
   "outputs": [],
   "source": [
    "strategy.plot(primary_indicators = ['c', 'sma', 'upper_band', 'lower_band'],\n",
    "                indicator_properties = {'sma' : {'line_type' : '--'},\n",
    "                                        'upper_band' : {'line_type' : '--', 'color': 'green'},\n",
    "                                        'lower_band' : {'line_type' : '--', 'color': 'green'},\n",
    "                                        'c' : {'color' : 'blue'},\n",
    "                                       })"
   ]
  },
  {
   "cell_type": "code",
   "execution_count": null,
   "metadata": {
    "ExecuteTime": {
     "end_time": "2019-10-22T01:47:48.931334Z",
     "start_time": "2019-10-22T01:47:47.506Z"
    },
    "run_control": {
     "frozen": false,
     "read_only": false
    },
    "scrolled": true
   },
   "outputs": [],
   "source": [
    "strategy.evaluate_returns();"
   ]
  },
  {
   "cell_type": "markdown",
   "metadata": {},
   "source": [
    "Note that we calculate P&L once a day so the equity line produced when we evaluate returns has fewer points than the equity line when we plot the strategy itself.\n",
    "\n",
    "We can also put multiple strategies together in a portfolio and run them simultaneously.  Lets add two instances of the Bollinger Band strategy with two different lookback periods and standard deviation thresholds."
   ]
  },
  {
   "cell_type": "code",
   "execution_count": null,
   "metadata": {
    "ExecuteTime": {
     "end_time": "2019-10-22T01:47:48.932431Z",
     "start_time": "2019-10-22T01:47:47.508Z"
    },
    "run_control": {
     "frozen": false,
     "read_only": false
    }
   },
   "outputs": [],
   "source": [
    "strategy1 = build_strategy(contract_group, SimpleNamespace(lookback_period = 5, num_std = 1))\n",
    "strategy2 = build_strategy(contract_group, SimpleNamespace(lookback_period = 10, num_std = 2))\n",
    "portfolio = pq.Portfolio()\n",
    "portfolio.add_strategy('bb_strategy_1', strategy1)\n",
    "portfolio.add_strategy('bb_strategy_2', strategy2)\n",
    "portfolio.run()"
   ]
  },
  {
   "cell_type": "markdown",
   "metadata": {},
   "source": [
    "Let's plot the output of the two strategies as well as the portfolio output.  The portfolio returns will be the sum of the returns of the 2 strategies."
   ]
  },
  {
   "cell_type": "code",
   "execution_count": null,
   "metadata": {
    "ExecuteTime": {
     "end_time": "2019-10-22T01:47:48.933821Z",
     "start_time": "2019-10-22T01:47:47.509Z"
    },
    "run_control": {
     "frozen": false,
     "read_only": false
    }
   },
   "outputs": [],
   "source": [
    "strategy1.plot(title = 'Strategy 1')"
   ]
  },
  {
   "cell_type": "code",
   "execution_count": null,
   "metadata": {
    "ExecuteTime": {
     "end_time": "2019-10-22T01:47:48.934893Z",
     "start_time": "2019-10-22T01:47:47.510Z"
    },
    "run_control": {
     "frozen": false,
     "read_only": false
    }
   },
   "outputs": [],
   "source": [
    "strategy2.plot(title = 'Strategy 2', primary_indicators = ['c', 'sma', 'upper_band', 'lower_band']);"
   ]
  },
  {
   "cell_type": "code",
   "execution_count": null,
   "metadata": {
    "ExecuteTime": {
     "end_time": "2019-10-22T01:47:48.936166Z",
     "start_time": "2019-10-22T01:47:47.512Z"
    },
    "run_control": {
     "frozen": false,
     "read_only": false
    },
    "scrolled": true
   },
   "outputs": [],
   "source": [
    "portfolio.plot()"
   ]
  },
  {
   "cell_type": "code",
   "execution_count": null,
   "metadata": {
    "ExecuteTime": {
     "end_time": "2019-10-22T01:47:48.937567Z",
     "start_time": "2019-10-22T01:47:47.513Z"
    },
    "run_control": {
     "frozen": false,
     "read_only": false
    }
   },
   "outputs": [],
   "source": [
    "strategy2.evaluate_returns();"
   ]
  }
 ],
 "metadata": {
  "kernelspec": {
   "display_name": "Python 3",
   "language": "python",
   "name": "python3"
  },
  "language_info": {
   "codemirror_mode": {
    "name": "ipython",
    "version": 3
   },
   "file_extension": ".py",
   "mimetype": "text/x-python",
   "name": "python",
   "nbconvert_exporter": "python",
   "pygments_lexer": "ipython3",
   "version": "3.7.3"
  }
 },
 "nbformat": 4,
 "nbformat_minor": 2
}
