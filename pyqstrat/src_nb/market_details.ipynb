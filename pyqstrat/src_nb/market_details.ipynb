{
 "cells": [
  {
   "cell_type": "code",
   "execution_count": 10,
   "metadata": {
    "ExecuteTime": {
     "end_time": "2019-09-04T02:08:15.277106Z",
     "start_time": "2019-09-04T02:08:15.252790Z"
    },
    "run_control": {
     "frozen": false,
     "read_only": false
    }
   },
   "outputs": [],
   "source": [
    "import numpy as np\n",
    "import datetime\n",
    "import calendar as cal\n",
    "from pyqstrat.holiday_calendars import Calendar\n",
    "from pyqstrat.pq_utils import decode_future_code\n",
    "\n",
    "def third_friday_of_month(calendar, month, year, roll = 'backward'):\n",
    "    '''\n",
    "    >>> calendar = Calendar.get_calendar(Calendar.NYSE)\n",
    "    >>> third_friday_of_month(calendar, 3, 2017)\n",
    "    numpy.datetime64('2017-03-17')\n",
    "    '''\n",
    "    # From https://stackoverflow.com/questions/18424467/python-third-friday-of-a-month\n",
    "    FRIDAY = 4\n",
    "    first_day_of_month = datetime.datetime(year, month, 1)\n",
    "    first_friday = first_day_of_month + datetime.timedelta(days=((FRIDAY - cal.monthrange(year, month)[0]) +7) %7 )\n",
    "    # 4 is friday of week\n",
    "    third_friday = first_friday + datetime.timedelta(days=14)\n",
    "    third_friday = third_friday.date()\n",
    "    third_friday = calendar.add_trading_days(third_friday, 0, roll)\n",
    "    return third_friday\n",
    "\n",
    "\n",
    "FUTURE_CODES_INT = {'F' : 1, 'G' : 2, 'H' : 3, 'J' : 4, 'K' : 5, 'M' : 6, 'N' : 7, 'Q' : 8, 'U' : 9, 'V' : 10, 'X' : 11, 'Z' : 12}\n",
    "FUTURES_CODES_INVERTED = dict([[v,k] for k,v in FUTURE_CODES_INT.items()])\n",
    "\n",
    "FUTURE_CODES_STR = {'F' : 'jan', 'G' : 'feb', 'H' : 'mar', 'J' : 'apr', 'K' : 'may', 'M' : 'jun', 'N' : 'jul', 'Q' : 'aug', 'U' : 'sep', 'V' : 'oct', 'X' : 'nov', 'Z' : 'dec'}\n",
    "\n",
    "def decode_future_code(future_code, as_str = True):\n",
    "    '''\n",
    "    Given a future code such as \"X\", return either the month number (from 1 - 12) or the month abbreviation, such as \"nov\"\n",
    "    \n",
    "    Args:\n",
    "        future_code (str): the one letter future code\n",
    "        as_str (bool, optional): If set, we return the abbreviation, if not, we return the month number\n",
    "        \n",
    "    >>> decode_future_code('X', as_str = False)\n",
    "    11\n",
    "    >>> decode_future_code('X')\n",
    "    'nov'\n",
    "    '''\n",
    "    \n",
    "    if len(future_code) != 1: raise Exception(\"Future code must be a single character\")\n",
    "    if as_str:\n",
    "        if future_code not in FUTURE_CODES_STR: raise Exception(f'unknown future code: {future_code}')\n",
    "        return FUTURE_CODES_STR[future_code]\n",
    "    \n",
    "    if future_code not in FUTURE_CODES_INT: raise Exception(f'unknown future code: {future_code}')\n",
    "    return FUTURE_CODES_INT[future_code]\n",
    "\n",
    "def get_fut_code(month):\n",
    "    '''\n",
    "    Given a month number such as 3 for March, return the future code for it, e.g. H\n",
    "    >>> get_fut_code(3)\n",
    "    'H'\n",
    "    '''\n",
    "    return FUTURES_CODES_INVERTED[month]\n",
    "\n",
    "def get_fut_expiry(calendar, fut_symbol):\n",
    "    '''\n",
    "    >>> calendar = Calendar.get_calendar(Calendar.NYSE)\n",
    "    >>> get_fut_expiry(calendar, 'ESH8')\n",
    "    numpy.datetime64('2018-03-16T08:30')\n",
    "    '''\n",
    "    assert fut_symbol.startswith('ES'), f'unknown future type: {fut_symbol}'\n",
    "    month_str = fut_symbol[-2:-1]\n",
    "    year_str = fut_symbol[-1:]\n",
    "    month = decode_future_code(month_str, as_str = False)\n",
    "    year = 2010 + int(year_str)\n",
    "    expiry_date = third_friday_of_month(calendar, month, year).astype(datetime.date)\n",
    "    return np.datetime64(expiry_date) + np.timedelta64(8 * 60 + 30, 'm')\n",
    "\n",
    "if __name__ == \"__main__\":\n",
    "    import doctest\n",
    "    doctest.testmod(optionflags = doctest.NORMALIZE_WHITESPACE)"
   ]
  },
  {
   "cell_type": "code",
   "execution_count": null,
   "metadata": {},
   "outputs": [],
   "source": []
  }
 ],
 "metadata": {
  "kernelspec": {
   "display_name": "Python 3",
   "language": "python",
   "name": "python3"
  },
  "language_info": {
   "codemirror_mode": {
    "name": "ipython",
    "version": 3
   },
   "file_extension": ".py",
   "mimetype": "text/x-python",
   "name": "python",
   "nbconvert_exporter": "python",
   "pygments_lexer": "ipython3",
   "version": "3.7.3"
  }
 },
 "nbformat": 4,
 "nbformat_minor": 2
}
